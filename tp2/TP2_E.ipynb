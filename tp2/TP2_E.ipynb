{
 "cells": [
  {
   "cell_type": "markdown",
   "metadata": {},
   "source": [
    "# TP2 Interpolation Numérique "
   ]
  },
  {
   "cell_type": "markdown",
   "metadata": {},
   "source": [
    "## Exercice 1"
   ]
  },
  {
   "cell_type": "code",
   "execution_count": 159,
   "metadata": {},
   "outputs": [],
   "source": [
    "from numpy import prod\n",
    "def prog(x,y,c):\n",
    "    S = [] \n",
    "    n = len(x)\n",
    "    \n",
    "    for j in range(n):\n",
    "        L =[c-xx for xx in x]\n",
    "        for k in range(n):\n",
    "            if (k == j):                \n",
    "                L[k] = 1\n",
    "            else:\n",
    "                L[k] = L[k]/(x[j] - x[k])   \n",
    "        S.append(y[j]*prod(L))\n",
    "        \n",
    "    return  sum(S)"
   ]
  },
  {
   "cell_type": "code",
   "execution_count": 160,
   "metadata": {
    "scrolled": true
   },
   "outputs": [
    {
     "name": "stdout",
     "output_type": "stream",
     "text": [
      "-1.0\n",
      "0.0\n",
      "2.0\n",
      "1.0\n",
      "3.0\n"
     ]
    },
    {
     "data": {
      "text/plain": [
       "8"
      ]
     },
     "execution_count": 160,
     "metadata": {},
     "output_type": "execute_result"
    }
   ],
   "source": [
    "\n",
    "X=[1 ,2 ,3 ,4,-2]\n",
    "Y=[-1, 0, 2 ,1,3]\n",
    "for i in X:\n",
    "    print(prog(X,Y,i))\n",
    "sum(X)"
   ]
  },
  {
   "cell_type": "markdown",
   "metadata": {},
   "source": [
    "**Polynome d'interpolation de Lagrange** \n",
    "> Soient $(x_0,y_0), \\ldots,(x_k,y_k),\\ldots ,(x_n,k_n)$ $n+1$ points deux à deux distincts, le polynôme d'interpolation de Lagrange associés à ces points supports est défini par :\n",
    "> $$P_n(x)=\\sum_{k=0}^{n-1} y_kL_k(x)$$\n",
    "\n",
    "avec $L_{0}(x)=\\displaystyle\\frac{(x-x_1)(x-x_2)\\ldots(x-x_{n})}{(x_0-x_1)(x_0-x_2)\\ldots(x_0-x_{n})}$ et $L_{k}(x)=\\displaystyle\\frac{(x-x_1)(x-x_2)\\ldots(x-x_{k-1})(x-x_{k+1})\\ldots(x_0-x_{n})}{(x_k-x_0)(x_k-x_1)\\ldots(x_k-x_{k-1})(x_k-x_{k+1})\\ldots(x_k-x_{n})}$ pour $k\\in \\{1,\\ldots,n\\}$"
   ]
  },
  {
   "cell_type": "markdown",
   "metadata": {},
   "source": [
    "1) lorsqu'on déclare la fonction PR **x=(x(1),x(2),...,x(n))x=(x(1),x(2),...,x(n))**  et  **y=(y(1),y(2),...,y(n))y=(y(1),y(2),...,y(n))**  deux vecteurs de même longueur  `n` et `c`  un nombre réel donné elle renvoie un de même longueur"
   ]
  },
  {
   "cell_type": "code",
   "execution_count": 75,
   "metadata": {},
   "outputs": [],
   "source": [
    "from numpy import prod\n",
    "def PR(x,y,c):\n",
    "    S = [] \n",
    "    n = len(x)\n",
    "    \n",
    "    for j in range(n):\n",
    "        L =[c-xx for xx in x]\n",
    "        for k in range(n):\n",
    "            if (k == j):                \n",
    "                L[k] = 1\n",
    "            else:\n",
    "                L[k] = L[k]/(x[j] - x[k])   \n",
    "        S.append(y[j]*prod(L))\n",
    "        \n",
    "        \n",
    "    return  sum(S)"
   ]
  },
  {
   "cell_type": "code",
   "execution_count": 162,
   "metadata": {},
   "outputs": [
    {
     "name": "stdout",
     "output_type": "stream",
     "text": [
      "-1.0\n",
      "0.0\n",
      "2.0\n",
      "1.0\n"
     ]
    }
   ],
   "source": [
    "X=[1 ,2 ,3 ,4]\n",
    "Y=[-1, 0, 2 ,1]\n",
    "for i in X:\n",
    "    print(PR(X,Y,i))"
   ]
  },
  {
   "cell_type": "markdown",
   "metadata": {},
   "source": [
    "2) à la fin de la boucle  Le vecteur  L contient un des 1."
   ]
  },
  {
   "cell_type": "code",
   "execution_count": 163,
   "metadata": {},
   "outputs": [],
   "source": [
    "X=[1 ,2 ,3 ,4];\n",
    "Y=[-1, 0, 2 ,1];"
   ]
  },
  {
   "cell_type": "code",
   "execution_count": 165,
   "metadata": {},
   "outputs": [
    {
     "name": "stdout",
     "output_type": "stream",
     "text": [
      "1\n",
      "1\n",
      "1\n",
      "1\n"
     ]
    }
   ],
   "source": [
    "from numpy import prod\n",
    "def prog(x,y,c):\n",
    "    S = [] \n",
    "    n = len(x)\n",
    "    \n",
    "    for j in range(n):\n",
    "        L =[c-xx for xx in x]\n",
    "        for k in range(n):\n",
    "            if (k == j):                \n",
    "                L[k] = 1\n",
    "            else:\n",
    "                L[k] = L[k]/(x[j] - x[k])\n",
    "        \n",
    "        S.append(y[j]*prod(L))\n",
    "    return  L[3]\n",
    "X=[1 ,2 ,3 ,4];\n",
    "Y=[-1, 0, 2 ,1];\n",
    "for i in X:\n",
    "    print(prog(X,Y,i))"
   ]
  },
  {
   "cell_type": "markdown",
   "metadata": {},
   "source": [
    "3) le graph du polynôme de Lagrange  de la fonction $f(x) = \\dfrac{1}{1 + x^2}$ aux points $x=[-1:0.1:1]$. est :"
   ]
  },
  {
   "cell_type": "code",
   "execution_count": 78,
   "metadata": {
    "scrolled": true
   },
   "outputs": [
    {
     "data": {
      "image/png": "[encoded data removed]",
      "text/plain": [
       "<Figure size 432x288 with 1 Axes>"
      ]
     },
     "metadata": {
      "needs_background": "light"
     },
     "output_type": "display_data"
    }
   ],
   "source": [
    "import matplotlib.pyplot as plt\n",
    "import numpy as np\n",
    "x=np.arange(-1,1, 0.1)\n",
    "f=lambda x: 1/(1+x**2)\n",
    "y=f(x)\n",
    "t=np.linspace(-1,1,100)\n",
    "pt=[]\n",
    "for u in range(len(t)):\n",
    "    pt.append(PR(x,y,t[u]))\n",
    "plt.plot(t,pt,'r',x,y,'bo',t,f(t),'g')\n",
    "plt.show()"
   ]
  },
  {
   "cell_type": "markdown",
   "metadata": {},
   "source": [
    "4) On considère la fonction $F$ suivante :\n",
    "$$\n",
    "F(h) = \\pi -\\cos \\left(\\frac{h}{2}\\right) + h \\sqrt{1-\\left(\\frac{h}{2}\\right)^2}, \\qquad\n",
    "h\\in [0,2],\n",
    "$$\n",
    "et les points d'interpolation $x_i = ih$, $0\\leq i\\leq n$, avec $ n=20$ et $h=0.1$."
   ]
  },
  {
   "cell_type": "markdown",
   "metadata": {},
   "source": [
    "4.1) le graphe de la fonction $F$ et $p_n$, où\n",
    " $p_n$ est le polynôme d'interpolation de Lagrange de $F$ aux\n",
    " points $x_0,\\,\\ldots,\\,x_n$."
   ]
  },
  {
   "cell_type": "code",
   "execution_count": 100,
   "metadata": {},
   "outputs": [
    {
     "data": {
      "image/png": "[encoded data removed]",
      "text/plain": [
       "<Figure size 432x288 with 1 Axes>"
      ]
     },
     "metadata": {
      "needs_background": "light"
     },
     "output_type": "display_data"
    }
   ],
   "source": [
    "import matplotlib.pyplot as plt\n",
    "import numpy as np\n",
    "import math\n",
    "x=np.array([i for i in range(3)])\n",
    "f=lambda x:math.pi-math.cos(x/2)+x*math.sqrt(1-(x/2)**2)\n",
    "F=np.vectorize(f)\n",
    "y=F(x)\n",
    "t=np.linspace(-1,1,10)\n",
    "pt=[]\n",
    "for u in range(len(t)):\n",
    "    pt.append(PR(x,y,t[u]))\n",
    "plt.plot(t,pt,'r',x,y,'bo',t,F(t),'g')\n",
    "plt.show()"
   ]
  },
  {
   "cell_type": "markdown",
   "metadata": {},
   "source": [
    "2) la courbe d'erreur  (la\n",
    " fonction $F-p_n$)."
   ]
  },
  {
   "cell_type": "code",
   "execution_count": 109,
   "metadata": {},
   "outputs": [
    {
     "data": {
      "image/png": "[encoded data removed]",
      "text/plain": [
       "<Figure size 432x288 with 1 Axes>"
      ]
     },
     "metadata": {
      "needs_background": "light"
     },
     "output_type": "display_data"
    }
   ],
   "source": [
    "import matplotlib.pyplot as plt\n",
    "import numpy as np\n",
    "import math\n",
    "x=np.array([i for i in range(3)])\n",
    "f=lambda x:math.pi-math.cos(x/2)+x*math.sqrt(1-(x/2)**2)\n",
    "F=np.vectorize(f)\n",
    "y=F(x)\n",
    "t=np.linspace(-1,1,100)\n",
    "pt=[]\n",
    "for u in range(len(t)):\n",
    "    pt.append(PR(x,y,t[u]))\n",
    "plt.plot(t,F(t)-pt,'r')\n",
    "plt.show()\n"
   ]
  },
  {
   "cell_type": "markdown",
   "metadata": {},
   "source": [
    "## Exercice 2  ( Phenomène de Runge )"
   ]
  },
  {
   "cell_type": "markdown",
   "metadata": {},
   "source": [
    "1) "
   ]
  },
  {
   "cell_type": "code",
   "execution_count": 168,
   "metadata": {},
   "outputs": [
    {
     "data": {
      "text/plain": [
       "Text(0.5, 1.0, 'Interpolation \\n Equidistante avec N=10 \\n')"
      ]
     },
     "execution_count": 168,
     "metadata": {},
     "output_type": "execute_result"
    },
    {
     "data": {
      "image/png": "[encoded data removed]",
      "text/plain": [
       "<Figure size 432x288 with 4 Axes>"
      ]
     },
     "metadata": {
      "needs_background": "light"
     },
     "output_type": "display_data"
    }
   ],
   "source": [
    "import matplotlib.pyplot as plt\n",
    "import numpy as np\n",
    "import math\n",
    "N=7\n",
    "X=np.linspace(-5,5,N)\n",
    "f=lambda x:1/(1+x**2)\n",
    "Y=f(X)\n",
    "p=np.polyfit(X,Y,N-1)\n",
    "t=np.linspace(-5,5,1000)\n",
    "plt.subplot(2,2,1)\n",
    "plt.plot(t,f(t),'r',X,Y,'ob', t, np.polyval(p,t),'g')\n",
    "plt.title(\"Interpolation \\n Equidistante avec N=7 \\n\")\n",
    "##############################\n",
    "N=8\n",
    "X=np.linspace(-5,5,N)\n",
    "f=lambda x:1/(1+x**2)\n",
    "Y=f(X)\n",
    "p=np.polyfit(X,Y,N-1)\n",
    "t=np.linspace(-5,5,1000)\n",
    "plt.subplot(2,2,2)\n",
    "plt.plot(t,f(t),'r',X,Y,'ob', t, np.polyval(p,t),'g')\n",
    "plt.title(\"Interpolation \\n Equidistante avec N=8 \\n\")\n",
    "##############################\n",
    "N=9;\n",
    "X=np.linspace(-5,5,N)\n",
    "f=lambda x:1/(1+x**2)\n",
    "Y=f(X)\n",
    "p=np.polyfit(X,Y,N-1)\n",
    "t=np.linspace(-5,5,1000)\n",
    "plt.subplot(2,2,3)\n",
    "plt.plot(t,f(t),'r',X,Y,'ob', t, np.polyval(p,t),'g')\n",
    "plt.title(\"Interpolation Equidistante avec N=9 \\n\")\n",
    "##############################\n",
    "N=10;\n",
    "X=np.linspace(-5,5,N)\n",
    "f=lambda x:1/(1+x**2)\n",
    "Y=f(X)\n",
    "p=np.polyfit(X,Y,N-1)\n",
    "t=np.linspace(-5,5,1000)\n",
    "plt.subplot(2,2,4)\n",
    "plt.plot(t,f(t),'r',X,Y,'ob', t, np.polyval(p,t),'g')\n",
    "plt.title(\"Interpolation \\n Equidistante avec N=10 \\n\")"
   ]
  },
  {
   "cell_type": "markdown",
   "metadata": {},
   "source": [
    "2) "
   ]
  },
  {
   "cell_type": "code",
   "execution_count": 169,
   "metadata": {},
   "outputs": [
    {
     "name": "stdout",
     "output_type": "stream",
     "text": [
      "[-4.755282581475767, -5.0, -4.755282581475767, -4.045084971874737, -2.938926261462366, -1.5450849718747373, -3.061616997868383e-16, 1.5450849718747368, 2.938926261462365, 4.045084971874736, 4.755282581475767]\n"
     ]
    }
   ],
   "source": [
    "import numpy as np\n",
    "import math\n",
    "def tcheb(a,b,n):\n",
    "    V=[]\n",
    "    for k in range(n):\n",
    "        V.append((a+b)/2+(a-b)/2*math.cos((k-1)/(n-1)*math.pi))\n",
    "    return V\n",
    "print(tcheb(-5,5,11))"
   ]
  },
  {
   "cell_type": "code",
   "execution_count": 170,
   "metadata": {},
   "outputs": [
    {
     "name": "stderr",
     "output_type": "stream",
     "text": [
      "C:\\Users\\user\\anaconda3I\\lib\\site-packages\\IPython\\core\\interactiveshell.py:3437: RankWarning: Polyfit may be poorly conditioned\n",
      "  exec(code_obj, self.user_global_ns, self.user_ns)\n",
      "C:\\Users\\user\\anaconda3I\\lib\\site-packages\\IPython\\core\\interactiveshell.py:3437: RankWarning: Polyfit may be poorly conditioned\n",
      "  exec(code_obj, self.user_global_ns, self.user_ns)\n",
      "C:\\Users\\user\\anaconda3I\\lib\\site-packages\\IPython\\core\\interactiveshell.py:3437: RankWarning: Polyfit may be poorly conditioned\n",
      "  exec(code_obj, self.user_global_ns, self.user_ns)\n",
      "C:\\Users\\user\\anaconda3I\\lib\\site-packages\\IPython\\core\\interactiveshell.py:3437: RankWarning: Polyfit may be poorly conditioned\n",
      "  exec(code_obj, self.user_global_ns, self.user_ns)\n"
     ]
    },
    {
     "data": {
      "text/plain": [
       "Text(0.5, 1.0, 'Interpolation Tchebycheff avec N=17')"
      ]
     },
     "execution_count": 170,
     "metadata": {},
     "output_type": "execute_result"
    },
    {
     "data": {
      "image/png": "[encoded data removed]",
      "text/plain": [
       "<Figure size 432x288 with 4 Axes>"
      ]
     },
     "metadata": {
      "needs_background": "light"
     },
     "output_type": "display_data"
    }
   ],
   "source": [
    "import matplotlib.pyplot as plt\n",
    "import numpy as np\n",
    "import math\n",
    "N=10\n",
    "f=lambda x:1/(1+x**2)\n",
    "Xt=tcheb(-5,5,N)\n",
    "Yt=[]\n",
    "for i in Xt:\n",
    "    Yt.append(f(i))\n",
    "pt=np.polyfit(Xt,Yt,N-1)\n",
    "plt.subplot(2,2,1)\n",
    "plt.plot(t,f(t),'r',Xt,Yt,'ob', t, np.polyval(pt,t),'g')\n",
    "plt.title(\"Interpolation \\n Tchebycheff avec N=10\")\n",
    "##########################################\n",
    "N=11\n",
    "f=lambda x: 1/(1+x**2)\n",
    "Xt=tcheb(-5,5,N)\n",
    "Yt=[]\n",
    "for i in Xt:\n",
    "    Yt.append(f(i))\n",
    "pt=np.polyfit(Xt,Yt,N-1)\n",
    "plt.subplot(2,2,2)\n",
    "plt.plot(t,f(t),'r',Xt,Yt,'ob', t, np.polyval(pt,t),'g')\n",
    "plt.title(\"Interpolation \\n Tchebycheff avec N=11\")\n",
    "##########################################\n",
    "N=16\n",
    "f=lambda x: 1/(1+x**2)\n",
    "Xt=tcheb(-5,5,N)\n",
    "Yt=[]\n",
    "for i in Xt:\n",
    "    Yt.append(f(i))\n",
    "pt=np.polyfit(Xt,Yt,N-1)\n",
    "plt.subplot(2,2,3)\n",
    "plt.plot(t,f(t),'r',Xt,Yt,'ob', t, np.polyval(pt,t),'g')\n",
    "plt.title(\"Interpolation Tchebycheff avec N=16\")\n",
    "##########################################\n",
    "N=17\n",
    "f=lambda x: 1/(1+x**2)\n",
    "Xt=tcheb(-5,5,N)\n",
    "Yt=[]\n",
    "for i in Xt:\n",
    "    Yt.append(f(i))\n",
    "pt=np.polyfit(Xt,Yt,N-1)\n",
    "plt.subplot(2,2,4)\n",
    "plt.plot(t,f(t),'r',Xt,Yt,'ob', t, np.polyval(pt,t),'g')\n",
    "plt.title(\"Interpolation Tchebycheff avec N=17\")"
   ]
  },
  {
   "cell_type": "markdown",
   "metadata": {},
   "source": [
    "## Exercice 3"
   ]
  },
  {
   "cell_type": "markdown",
   "metadata": {},
   "source": [
    "1) "
   ]
  },
  {
   "cell_type": "code",
   "execution_count": 171,
   "metadata": {},
   "outputs": [],
   "source": [
    "def intN(x,y):\n",
    "    m=len(x)\n",
    "    f=np.zeros(m)\n",
    "    for k in range(1,m):\n",
    "        f[k:m+1]=np.array(np.array(y[k:m+1])-np.array(y[k-1:m-1]))/np.array(np.array(x[k:m+1])-np.array(x[0:m-k]))\n",
    "    return f"
   ]
  },
  {
   "cell_type": "code",
   "execution_count": 172,
   "metadata": {},
   "outputs": [
    {
     "name": "stdout",
     "output_type": "stream",
     "text": [
      "[ 0.         -5.          0.66666667 10.5       ]\n"
     ]
    }
   ],
   "source": [
    "x=[-1,0,2,5]\n",
    "y=[6,1,3,66]\n",
    "print(intN(x,y))"
   ]
  },
  {
   "cell_type": "code",
   "execution_count": 173,
   "metadata": {},
   "outputs": [],
   "source": [
    "import matplotlib.pyplot as plt\n",
    "import numpy as np\n",
    "import math\n",
    "def intNval(x,y,t):\n",
    "    m=len(x)\n",
    "    p=y[m-1]*np.ones(len(t))\n",
    "    for k in range(m-2,-1,-1):\n",
    "        p=p*np.array((np.array(t)-x[k]))+y[k]\n",
    "    return p\n"
   ]
  },
  {
   "cell_type": "code",
   "execution_count": 174,
   "metadata": {},
   "outputs": [
    {
     "data": {
      "text/plain": [
       "array([   7., -118.,   27.,  838.])"
      ]
     },
     "execution_count": 174,
     "metadata": {},
     "output_type": "execute_result"
    }
   ],
   "source": [
    "x=[-1,0,2,5]\n",
    "y=[6,1,3,66]\n",
    "t=[0,1,2,3]\n",
    "intNval(x,y,t)"
   ]
  },
  {
   "cell_type": "code",
   "execution_count": 175,
   "metadata": {},
   "outputs": [],
   "source": [
    "##Calcul a la main"
   ]
  },
  {
   "cell_type": "markdown",
   "metadata": {},
   "source": [
    "2) le Graph du polynôme dans l'intervalle $[-1;5]$."
   ]
  },
  {
   "cell_type": "code",
   "execution_count": 176,
   "metadata": {},
   "outputs": [
    {
     "data": {
      "text/plain": [
       "[<matplotlib.lines.Line2D at 0x1eaa0966a00>,\n",
       " <matplotlib.lines.Line2D at 0x1eaa0966ac0>]"
      ]
     },
     "execution_count": 176,
     "metadata": {},
     "output_type": "execute_result"
    },
    {
     "data": {
      "image/png": "[encoded data removed]",
      "text/plain": [
       "<Figure size 432x288 with 1 Axes>"
      ]
     },
     "metadata": {
      "needs_background": "light"
     },
     "output_type": "display_data"
    }
   ],
   "source": [
    "import matplotlib.pyplot as plt\n",
    "import numpy as np\n",
    "x=[-1,0,2,5]\n",
    "y=[6,1,3,66]\n",
    "f=np.array(intN(x,y))\n",
    "plt.plot(x,f,'r',x,y,'ob')"
   ]
  },
  {
   "cell_type": "markdown",
   "metadata": {},
   "source": [
    "3) $P(1)$"
   ]
  },
  {
   "cell_type": "code",
   "execution_count": 158,
   "metadata": {},
   "outputs": [
    {
     "data": {
      "text/plain": [
       "7.0"
      ]
     },
     "execution_count": 158,
     "metadata": {},
     "output_type": "execute_result"
    }
   ],
   "source": [
    "x=[-1,0,2,5]\n",
    "y=[6,1,3,66]\n",
    "t=[0,1,2,3]\n",
    "p=intNval(x,y,t)\n",
    "p[0]"
   ]
  },
  {
   "cell_type": "markdown",
   "metadata": {},
   "source": [
    "4) Recalculer à la main et puis à l'aide du Programme neville la valeur de $P(1)$."
   ]
  },
  {
   "cell_type": "code",
   "execution_count": null,
   "metadata": {},
   "outputs": [],
   "source": []
  }
 ],
 "metadata": {
  "kernelspec": {
   "display_name": "Python 3",
   "language": "python",
   "name": "python3"
  },
  "language_info": {
   "codemirror_mode": {
    "name": "ipython",
    "version": 3
   },
   "file_extension": ".py",
   "mimetype": "text/x-python",
   "name": "python",
   "nbconvert_exporter": "python",
   "pygments_lexer": "ipython3",
   "version": "3.8.8"
  }
 },
 "nbformat": 4,
 "nbformat_minor": 2
}
